{
  "cells": [
    {
      "cell_type": "markdown",
      "source": [
        "Using \"Physics-informed neural network\" to solve a classic beam dynamic equation which is a 4th order PDE(Partial differential equation).\n",
        "Free vibration of a simple supported beam:\n",
        "![PINN.png](data:image/png;base64,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)\n",
        "\n",
        "About Physics-informed neural network:\n",
        "Raissi, Maziar, Paris Perdikaris, and George E. Karniadakis. \"Physics-informed neural networks: A deep learning framework for solving forward and inverse problems involving nonlinear partial differential equations.\" Journal of Computational physics 378 (2019): 686-707."
      ],
      "metadata": {
        "id": "HR59NGMdQhNz"
      }
    },
    {
      "cell_type": "code",
      "execution_count": 1,
      "metadata": {
        "colab": {
          "base_uri": "https://localhost:8080/"
        },
        "id": "Qu2oBiTxqGFP",
        "outputId": "810f68fe-7033-4c3b-be1f-1bb3a6f1f8f7"
      },
      "outputs": [
        {
          "output_type": "stream",
          "name": "stdout",
          "text": [
            "cuda\n"
          ]
        }
      ],
      "source": [
        "import numpy as np\n",
        "import torch\n",
        "from torch import nn\n",
        "from torch.utils.data import DataLoader\n",
        "from torchvision import datasets\n",
        "from torchvision.transforms import ToTensor\n",
        "from torch.utils.data.dataset import Dataset\n",
        "from time import time\n",
        "\n",
        "import random\n",
        "torch.manual_seed(0)\n",
        "random.seed(0)\n",
        "np.random.seed(0)\n",
        "\n",
        "# Device configuration\n",
        "device = torch.device('cuda' if torch.cuda.is_available() else 'cpu')\n",
        "\n",
        "print(device)\n",
        "\n",
        "if device == 'cuda': print(torch.cuda.get_device_name()) "
      ]
    },
    {
      "cell_type": "code",
      "execution_count": 2,
      "metadata": {
        "id": "X2Zk_isV_e19"
      },
      "outputs": [],
      "source": [
        "# create custom dataset\n",
        "class CustomDataset(Dataset):\n",
        "    def __init__(self, X, y, transform=None, target_transform=None):\n",
        "        self.inputs=X\n",
        "        self.labels=y\n",
        "        \n",
        "    def __len__(self):\n",
        "        return len(self.inputs)\n",
        "\n",
        "    def __getitem__(self, idx):\n",
        "        inp=self.inputs[idx]\n",
        "        lab=self.labels[idx]\n",
        "        return inp, lab"
      ]
    },
    {
      "cell_type": "code",
      "execution_count": 27,
      "metadata": {
        "id": "-4I0tQpr33MP"
      },
      "outputs": [],
      "source": [
        "# Define Physics-informed neural networks by a 2x100x100x100x1 ANN\n",
        "class NeuralNetwork(nn.Module):\n",
        "    def __init__(self):\n",
        "        super(NeuralNetwork, self).__init__()\n",
        "        self.linear_relu_stack = nn.Sequential(\n",
        "            nn.Linear(2, 100),\n",
        "            nn.Tanh(),\n",
        "            #nn.ReLU(),\n",
        "            \n",
        "            nn.Linear(100, 100),\n",
        "            nn.Tanh(),\n",
        "            #nn.ReLU(),\n",
        "            \n",
        "            nn.Linear(100, 100),\n",
        "            nn.Tanh(),\n",
        "            #nn.ReLU(),\n",
        "            \n",
        "            nn.Linear(100, 1)\n",
        "            #nn.Tanh()\n",
        "        )\n",
        "\n",
        "    def forward(self, x):\n",
        "        outputs=self.linear_relu_stack(x)\n",
        "        return outputs\n",
        "\n"
      ]
    },
    {
      "cell_type": "code",
      "execution_count": 28,
      "metadata": {
        "colab": {
          "base_uri": "https://localhost:8080/"
        },
        "id": "ImZIrzPj0Wtl",
        "outputId": "d012bc17-ada9-4f2c-c5bb-38371732995a"
      },
      "outputs": [
        {
          "output_type": "stream",
          "name": "stdout",
          "text": [
            "NeuralNetwork(\n",
            "  (linear_relu_stack): Sequential(\n",
            "    (0): Linear(in_features=2, out_features=100, bias=True)\n",
            "    (1): Tanh()\n",
            "    (2): Linear(in_features=100, out_features=100, bias=True)\n",
            "    (3): Tanh()\n",
            "    (4): Linear(in_features=100, out_features=100, bias=True)\n",
            "    (5): Tanh()\n",
            "    (6): Linear(in_features=100, out_features=1, bias=True)\n",
            "  )\n",
            ")\n"
          ]
        }
      ],
      "source": [
        "PINN = NeuralNetwork().to(device).double()\n",
        "print(PINN)"
      ]
    },
    {
      "cell_type": "code",
      "execution_count": 5,
      "metadata": {
        "id": "zctRvSb6HMtH"
      },
      "outputs": [],
      "source": [
        "ub=1\n",
        "lb=0"
      ]
    },
    {
      "cell_type": "code",
      "execution_count": 6,
      "metadata": {
        "id": "MwfytQGI0aHr"
      },
      "outputs": [],
      "source": [
        "# get the loss of pde:  \n",
        "# The sum of (4th order derivative respect to x) and (2nd order derivative respect to t ) should be to zero.\n",
        "def pde_loss(data,model):\n",
        "    \n",
        "    x=data[:,0].reshape(len(data),1)\n",
        "    t=data[:,1].reshape(len(data),1)\n",
        "\n",
        "    x.requires_grad_()\n",
        "    t.requires_grad_()\n",
        "\n",
        "    x1=2*(x-lb)/(ub-lb)-1\n",
        "    t1=2*(t-lb)/(ub-lb)-1\n",
        "\n",
        "    all_zero=np.zeros((len(x),1))\n",
        "    all_zero=torch.from_numpy(all_zero).to(device)    \n",
        "\n",
        "    w=model(torch.cat((x1,t1),1))\n",
        "    w_x = torch.autograd.grad(w, x,torch.ones_like(w), create_graph=True)[0]\n",
        "    w_xx= torch.autograd.grad(w_x,x,torch.ones_like(w_x), create_graph=True)[0]\n",
        "    w_xxx= torch.autograd.grad(w_xx,x,torch.ones_like(w_xx), create_graph=True)[0]\n",
        "    w_xxxx= torch.autograd.grad(w_xxx,x,torch.ones_like(w_xxx), create_graph=True)[0]\n",
        "    \n",
        "    w_t = torch.autograd.grad(w, t,torch.ones_like(w), create_graph=True)[0]\n",
        "    w_tt= torch.autograd.grad(w_t,t,torch.ones_like(w_t), create_graph=True)[0]\n",
        "    pde = w_xxxx+w_tt\n",
        "    loss_pde_mse=loss_fn(pde, all_zero)\n",
        "    torch.autograd.no_grad()\n",
        "    return loss_pde_mse\n"
      ]
    },
    {
      "cell_type": "code",
      "execution_count": 7,
      "metadata": {
        "id": "_5uCHjVm0c7j"
      },
      "outputs": [],
      "source": [
        "#Boundary condition:\n",
        "# zero at both end / and 2nd derivative respect to x equal to zero\n",
        "def loss_bc (x,t,model):\n",
        "\n",
        "    y=np.zeros([len(x),1])\n",
        "    t=torch.from_numpy(t).to(device)\n",
        "    x=torch.from_numpy(x).to(device) \n",
        "    y=torch.from_numpy(y).to(device)  \n",
        "    \n",
        "    x.requires_grad_()\n",
        "    t.requires_grad_()\n",
        "    x1=2*(x-lb)/(ub-lb)-1\n",
        "    t1=2*(t-lb)/(ub-lb)-1\n",
        "    w=model(torch.cat((x1,t1),1))\n",
        "    w_x = torch.autograd.grad(w, x,torch.ones_like(w), create_graph=True)[0]\n",
        "    w_xx= torch.autograd.grad(w_x,x,torch.ones_like(w_x), create_graph=True)[0]\n",
        "    \n",
        "    loss=loss_fn(w,y)+ loss_fn(w_xx,y)\n",
        "    torch.autograd.no_grad()\n",
        "    return loss"
      ]
    },
    {
      "cell_type": "code",
      "execution_count": 8,
      "metadata": {
        "id": "o3UoEJvyMQuQ"
      },
      "outputs": [],
      "source": [
        "#Initial condition:\n",
        "# w=sin(pi*x) when t=0/ 1st derivative respect to t equal to zero\n",
        "def loss_ic (x,t,model):\n",
        "\n",
        "    y1=np.sin(np.pi*x)\n",
        "    y2=np.zeros([len(x),1])\n",
        "\n",
        "    t=torch.from_numpy(t).to(device)\n",
        "    x=torch.from_numpy(x).to(device) \n",
        "    y1=torch.from_numpy(y1).to(device) \n",
        "    y2=torch.from_numpy(y2).to(device) \n",
        "    \n",
        "    x.requires_grad_()\n",
        "    t.requires_grad_()\n",
        "    x1=2*(x-lb)/(ub-lb)-1\n",
        "    t1=2*(t-lb)/(ub-lb)-1\n",
        "    w=model(torch.cat((x1,t1),1))\n",
        "    w_t = torch.autograd.grad(w, t,torch.ones_like(w), create_graph=True)[0]\n",
        "    \n",
        "    loss=loss_fn(w,y1)+ loss_fn(w_t,y2)\n",
        "    torch.autograd.no_grad()\n",
        "    return loss"
      ]
    },
    {
      "cell_type": "code",
      "execution_count": 9,
      "metadata": {
        "id": "tcnPlmYo0h5B"
      },
      "outputs": [],
      "source": [
        "# a1,a2,a3 are the tunable coefficients for total loss function\n",
        "a1=1\n",
        "a2=1\n",
        "a3=1\n",
        "\n",
        "def train_pde(dataloader,batch_size, model, loss_fn, optimizer):\n",
        "    size = len(dataloader.dataset)\n",
        "    batch_number=len(dataloader)\n",
        "    model.train()\n",
        "    lossT,lossPde,lossIC,lossBC=0,0,0,0\n",
        "    for batch, (X, y) in enumerate(dataloader):\n",
        "        optimizer.zero_grad()\n",
        "        X, y = X.to(device), y.to(device)\n",
        "\n",
        "        # Compute pde loss\n",
        "        loss_pde_mse=pde_loss(X,model) # shape(N,1)\n",
        "\n",
        "        # Compute iC loss\n",
        "        x_ic=np.random.uniform(low=0.0, high=1, size=(50,1))\n",
        "        t_ic=np.zeros([50,1])\n",
        "        loss_i=loss_ic(x_ic,t_ic,model)\n",
        "\n",
        "        # Compute BC loss\n",
        "        t_bc=np.random.uniform(low=0.0, high=1, size=(50,1))\n",
        "        x1=np.zeros([25,1])\n",
        "        x2=np.ones([25,1])\n",
        "        x_bc=np.concatenate((x1, x2), axis=0)      \n",
        "        loss_b=loss_bc(x_bc,t_bc,model)\n",
        "        \n",
        "        # sum all loss\n",
        "        loss = a1*loss_pde_mse+a2*loss_i+a3*loss_b\n",
        "\n",
        "        # Backpropagation\n",
        "\n",
        "        loss.backward()\n",
        "        optimizer.step()\n",
        "        \n",
        "        lossT+= loss.item()\n",
        "        lossPde+= loss_pde_mse.item()  \n",
        "        lossIC+= loss_i.item()         \n",
        "        lossBC+= loss_b.item()                \n",
        "        torch.autograd.no_grad()\n",
        "\n",
        "    print(f\"loss: {lossT/batch_number:>7f},loss_pde_mse: {lossPde/batch_number:>7f},loss_i: {lossIC/batch_number:>7f},loss_b: {lossBC/batch_number:>7f} \")\n",
        "    return lossT/batch_number"
      ]
    },
    {
      "cell_type": "code",
      "execution_count": 10,
      "metadata": {
        "id": "ecuyivA50mVN"
      },
      "outputs": [],
      "source": [
        "#choose loss function and optimizer\n",
        "loss_fn = nn.MSELoss()\n",
        "optimizer = torch.optim.Adam(PINN.parameters(), lr=1e-3)\n"
      ]
    },
    {
      "cell_type": "code",
      "execution_count": 11,
      "metadata": {
        "id": "nF50J17GMjfz"
      },
      "outputs": [],
      "source": [
        "def data_prepare(Nf,B_size):\n",
        "    #random training data\n",
        "    train_y=np.ones([Nf,1])\n",
        "    train_X=np.random.rand(Nf,2)\n",
        "\n",
        "    for i in range(len(train_X)):\n",
        "        x=train_X[i,0]\n",
        "        t=train_X[i,1]    \n",
        "        train_y[i]=np.sin(np.pi*x)*np.cos(np.pi**2*t)\n",
        "\n",
        "    train_X=torch.from_numpy(train_X)\n",
        "    train_y=torch.from_numpy(train_y)\n",
        "    training_data=CustomDataset(train_X,train_y)\n",
        "\n",
        "    # Create data loaders.\n",
        "    train_dataloader = DataLoader(training_data, batch_size=B_size,shuffle=True)\n",
        "    \n",
        "    return train_dataloader\n",
        "    "
      ]
    },
    {
      "cell_type": "code",
      "execution_count": null,
      "metadata": {
        "id": "wbj21x1q0pK9"
      },
      "outputs": [],
      "source": [
        "Nf=2500\n",
        "B_size=2500\n",
        "epochs = 1000\n",
        "train_loss, test_loss=[],[]\n",
        "for t in range(epochs):\n",
        "    train_dataloader= data_prepare(Nf,B_size)\n",
        "    time0=time()\n",
        "    \n",
        "    print(f\"Epoch {t+1}\\n-------------------------------\")\n",
        "    train_loss.append(train_pde(train_dataloader,B_size, PINN, loss_fn, optimizer))\n",
        "    #test_loss.append(test(test_dataloader, model, loss_fn))\n",
        "    print(\"\\nTraining Time (in minutes) =\",(time()-time0)/60)\n",
        "print(\"Done!\")"
      ]
    },
    {
      "cell_type": "code",
      "execution_count": null,
      "metadata": {
        "id": "M4cpImE-Ro8Z"
      },
      "outputs": [],
      "source": [
        "# save model\n",
        "torch.save(PINN.state_dict(), \"PINN_norm_1_1000.pth\")"
      ]
    },
    {
      "cell_type": "code",
      "execution_count": 29,
      "metadata": {
        "colab": {
          "base_uri": "https://localhost:8080/"
        },
        "id": "dwaNF5PBJVDm",
        "outputId": "4d630cdf-8744-46b9-a77a-b1d2b2ee9d08"
      },
      "outputs": [
        {
          "output_type": "execute_result",
          "data": {
            "text/plain": [
              "<All keys matched successfully>"
            ]
          },
          "metadata": {},
          "execution_count": 29
        }
      ],
      "source": [
        "#load model\n",
        "#PINN.load_state_dict(torch.load(\"PINN_pre_4_1000.pth\",map_location='cpu'))\n",
        "PINN.load_state_dict(torch.load(\"model_norm_1_1000_L1899.pth\"))"
      ]
    },
    {
      "cell_type": "code",
      "execution_count": 13,
      "metadata": {
        "id": "y21-M_tfR54B"
      },
      "outputs": [],
      "source": [
        "# create fix points as training data for LBFGS\n",
        "train_X=np.ones([22500,2])\n",
        "train_y=np.ones([22500,1])\n",
        "for i in range(150):\n",
        "    for j in range(150):\n",
        "        x=(i+1)*(1/151)\n",
        "        t=(j+1)*(1/151)\n",
        "        train_X[i*150+j]=[x,t]\n",
        "        train_y[i*150+j]=np.sin(np.pi*x)*np.cos(np.pi**2*t) \n",
        "    \n",
        "train_X=torch.from_numpy(train_X)\n",
        "train_X=train_X.to(device)\n",
        "train_y=torch.from_numpy(train_y)\n",
        "train_y=train_y.to(device)"
      ]
    },
    {
      "cell_type": "code",
      "execution_count": null,
      "metadata": {
        "id": "xumb-urpSD7D"
      },
      "outputs": [],
      "source": [
        "epochs = 3\n",
        "\n",
        "optimizer =torch.optim.LBFGS(PINN.parameters(), \n",
        "                             lr=1,\n",
        "                             #max_iter = 1000, \n",
        "                             #max_eval = None, \n",
        "                             #tolerance_grad = 1e-06, \n",
        "                             #tolerance_change = 1e-09, \n",
        "                             #history_size = 100, \n",
        "                             line_search_fn = 'strong_wolfe')\n",
        "\n",
        "for epoch in range(epochs):\n",
        "    time0=time()\n",
        "    running_loss = 0.0\n",
        "\n",
        "    def closure():\n",
        "        # Zero gradients\n",
        "        optimizer.zero_grad()\n",
        "\n",
        "        # Compute pde loss\n",
        "        loss_pde_mse=pde_loss(train_X,PINN) \n",
        "\n",
        "        # Compute iC loss\n",
        "        x_ic=np.linspace(0,1,150).reshape(150,1)\n",
        "        t_ic=np.zeros([150,1])\n",
        "        loss_i=loss_ic(x_ic,t_ic,PINN)\n",
        "\n",
        "        # Compute BC loss\n",
        "        t_1=np.linspace(0,1,150).reshape(150,1)\n",
        "        x1=np.zeros([150,1])\n",
        "        x2=np.ones([150,1])\n",
        "        x_bc=np.concatenate((x1, x2), axis=0)\n",
        "        t_bc=np.concatenate((t_1, t_1), axis=0)\n",
        "        loss_b=loss_bc(x_bc,t_bc,PINN)\n",
        "\n",
        "        #total loss\n",
        "        loss = loss_pde_mse+loss_i+loss_b\n",
        "\n",
        "        # Backward pass\n",
        "        loss.backward()\n",
        "\n",
        "        return loss\n",
        "    # Update weights\n",
        "    optimizer.step(closure)\n",
        "\n",
        "    # Update the running loss\n",
        "    loss = closure()\n",
        "    running_loss += loss.item()\n",
        "    train_loss.append(loss.item())\n",
        "\n",
        "    print(f\"Epoch: {epoch + 1:02}/{epochs} Loss: {running_loss:.5e}\")\n",
        "    print(\"\\nTraining Time (in minutes) =\",(time()-time0)/60)\n",
        "    if epoch % 100 == 99:\n",
        "      torch.save(PINN.state_dict(), f\"PINN_norm_1_1000_L{epoch}.pth\")\n",
        "      np.savetxt(f\"train_loss_PINN_norm_1_1000_L{epoch}.csv\", train_loss, delimiter=\",\")"
      ]
    },
    {
      "cell_type": "code",
      "execution_count": null,
      "metadata": {
        "id": "HDkKaKyUYMaX"
      },
      "outputs": [],
      "source": [
        "import matplotlib.pyplot as plt\n",
        "\n",
        "plt.plot(train_loss, label='Training loss')\n",
        "#plt.plot(test_loss, label='test loss')\n",
        "plt.yscale(\"log\")\n",
        "plt.legend(frameon=False)\n",
        "plt.show()"
      ]
    },
    {
      "cell_type": "code",
      "execution_count": 37,
      "metadata": {
        "colab": {
          "base_uri": "https://localhost:8080/",
          "height": 910
        },
        "id": "RJ9jW525nfAV",
        "outputId": "43fdfd46-3a66-47dd-8d85-2e9104d914d4"
      },
      "outputs": [
        {
          "output_type": "execute_result",
          "data": {
            "text/plain": [
              "<matplotlib.colorbar.Colorbar at 0x7fc9daa7fad0>"
            ]
          },
          "metadata": {},
          "execution_count": 37
        },
        {
          "output_type": "display_data",
          "data": {
            "text/plain": [
              "<Figure size 1080x1080 with 6 Axes>"
            ],
            "image/png": "[encoded data removed]"
          },
          "metadata": {
            "needs_background": "light"
          }
        }
      ],
      "source": [
        "# plot the results\n",
        "Xaxis=np.linspace(0,1,152)\n",
        "taxis=np.linspace(0,1,151)\n",
        "inputX=np.ones([len(taxis)*len(Xaxis),2])\n",
        "true_y=np.ones([len(taxis)*len(Xaxis),1])\n",
        "for i in range(len(Xaxis)):\n",
        "    for j in range(len(taxis)):\n",
        "        x=Xaxis[i]\n",
        "        t=taxis[j]\n",
        "        inputX[i*len(taxis)+j]=[x,t]\n",
        "        true_y[i*len(taxis)+j]=np.sin(np.pi*x)*np.cos(np.pi**2*t)\n",
        "inputX1=2*(inputX-lb)/(ub-lb)-1\n",
        "inputX1=torch.from_numpy(inputX1)\n",
        "PINN.eval()\n",
        "X= inputX1.to(device)\n",
        "pred_X = PINN(X).cpu().detach().numpy()\n",
        "\n",
        "pred_X=pred_X.reshape(len(Xaxis),len(taxis))\n",
        "true_y=true_y.reshape(len(Xaxis),len(taxis))\n",
        "\n",
        "levels = np.linspace(-1,1,9)\n",
        "\n",
        "fig_1 = plt.figure(1, figsize=(15, 15))\n",
        "plt.subplot(3,1,1)\n",
        "plt.title('Exact solution')\n",
        "plt.contourf(taxis,Xaxis,true_y)\n",
        "plt.xlabel('Time(s)')\n",
        "plt.ylabel('Location_X (m)')\n",
        "plt.xticks(np.arange(0, 1.2, 0.2))\n",
        "plt.yticks(np.arange(0, 1.2, 0.2))       \n",
        "plt.colorbar()\n",
        "\n",
        "plt.subplot(3,1,2)\n",
        "plt.title('Model Prediction')\n",
        "plt.contourf(taxis,Xaxis,pred_X,levels)\n",
        "plt.xlabel('Time(s)')\n",
        "plt.ylabel('Location_X (m)')\n",
        "plt.xticks(np.arange(0, 1.2, 0.2))\n",
        "plt.yticks(np.arange(0, 1.2, 0.2))       \n",
        "plt.colorbar()\n",
        "\n",
        "\n",
        "plt.subplot(3,1,3)\n",
        "plt.title('Absolute Error')\n",
        "plt.contourf(taxis,Xaxis,np.absolute(pred_X-true_y))\n",
        "plt.xlabel('Time(s)')\n",
        "plt.ylabel('Location_X (m)')\n",
        "plt.xticks(np.arange(0, 1.2, 0.2))\n",
        "plt.yticks(np.arange(0, 1.2, 0.2))       \n",
        "plt.colorbar()\n",
        "\n"
      ]
    },
    {
      "cell_type": "code",
      "execution_count": 31,
      "metadata": {
        "id": "acVFw4HTuXZU"
      },
      "outputs": [],
      "source": [
        "def pde_loss_plot(data,model):\n",
        "    \n",
        "    x=data[:,0].reshape(len(data),1)\n",
        "    t=data[:,1].reshape(len(data),1)\n",
        "    x.requires_grad_()\n",
        "    t.requires_grad_()\n",
        "    x1=2*(x-lb)/(ub-lb)-1\n",
        "    t1=2*(t-lb)/(ub-lb)-1\n",
        "    all_zero=np.zeros((len(x),1))\n",
        "    all_zero=torch.from_numpy(all_zero).to(device)    \n",
        "\n",
        "    w=model(torch.cat((x1,t1),1))\n",
        "    w_x = torch.autograd.grad(w, x,torch.ones_like(w), create_graph=True)[0]\n",
        "    w_xx= torch.autograd.grad(w_x,x,torch.ones_like(w_x), create_graph=True)[0]\n",
        "    w_xxx= torch.autograd.grad(w_xx,x,torch.ones_like(w_xx), create_graph=True)[0]\n",
        "    w_xxxx= torch.autograd.grad(w_xxx,x,torch.ones_like(w_xxx), create_graph=True)[0]\n",
        "    \n",
        "    w_t = torch.autograd.grad(w, t,torch.ones_like(w), create_graph=True)[0]\n",
        "    w_tt= torch.autograd.grad(w_t,t,torch.ones_like(w_t), create_graph=True)[0]\n",
        "    pde = w_xxxx+w_tt\n",
        "    #loss_pde_mse=loss_fn(pde, all_zero)\n",
        "    torch.autograd.no_grad()\n",
        "    return pde"
      ]
    },
    {
      "cell_type": "code",
      "execution_count": 38,
      "metadata": {
        "id": "cxRP6yhOuaxT"
      },
      "outputs": [],
      "source": [
        "PDE_L=pde_loss_plot(torch.from_numpy(inputX).to(device),PINN)\n",
        "\n",
        "PDE_L=PDE_L.reshape(len(Xaxis),len(taxis))"
      ]
    },
    {
      "cell_type": "code",
      "execution_count": 39,
      "metadata": {
        "colab": {
          "base_uri": "https://localhost:8080/",
          "height": 367
        },
        "id": "dyCIYWb1ubq8",
        "outputId": "fcd576b4-e0f7-439a-c324-ed54712ebb14"
      },
      "outputs": [
        {
          "output_type": "execute_result",
          "data": {
            "text/plain": [
              "<matplotlib.colorbar.Colorbar at 0x7fc9da995ad0>"
            ]
          },
          "metadata": {},
          "execution_count": 39
        },
        {
          "output_type": "display_data",
          "data": {
            "text/plain": [
              "<Figure size 1440x360 with 2 Axes>"
            ],
            "image/png": "[encoded data removed]"
          },
          "metadata": {
            "needs_background": "light"
          }
        }
      ],
      "source": [
        "levels = np.linspace(-0.01,0.01,21)\n",
        "fig_3 = plt.figure(1, figsize=(20, 5))\n",
        "plt.plot\n",
        "plt.title('PDE loss')\n",
        "#plt.contourf(taxis,Xaxis,PDE_L.cpu().detach().numpy(),levels=levels)\n",
        "plt.contourf(taxis,Xaxis,PDE_L.cpu().detach().numpy())\n",
        "plt.xlabel('t')\n",
        "plt.ylabel('Beam location_X')\n",
        "plt.xticks(np.arange(0, 1, 0.1))\n",
        "plt.yticks(np.arange(0.1, 1, 0.1)) \n",
        "#plt.clim(-0.3,0.3)\n",
        "\n",
        "plt.colorbar()"
      ]
    }
  ],
  "metadata": {
    "accelerator": "GPU",
    "colab": {
      "provenance": [],
      "collapsed_sections": []
    },
    "kernelspec": {
      "display_name": "Python 3 (ipykernel)",
      "language": "python",
      "name": "python3"
    },
    "language_info": {
      "codemirror_mode": {
        "name": "ipython",
        "version": 3
      },
      "file_extension": ".py",
      "mimetype": "text/x-python",
      "name": "python",
      "nbconvert_exporter": "python",
      "pygments_lexer": "ipython3",
      "version": "3.8.12"
    }
  },
  "nbformat": 4,
  "nbformat_minor": 0
}